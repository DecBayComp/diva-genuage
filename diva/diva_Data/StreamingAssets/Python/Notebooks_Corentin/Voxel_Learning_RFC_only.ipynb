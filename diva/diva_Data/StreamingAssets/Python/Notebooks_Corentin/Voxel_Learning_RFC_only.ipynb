{
 "cells": [
  {
   "cell_type": "code",
   "execution_count": 1,
   "metadata": {},
   "outputs": [],
   "source": [
    "%reload_ext autoreload\n",
    "%autoreload 2\n",
    "\n",
    "import pickle\n",
    "import sys\n",
    "\n",
    "import numpy as np\n",
    "import pandas as pd\n",
    "from skimage.external import tifffile as T\n",
    "from skimage import img_as_float\n",
    "\n",
    "sys.path.append('diva-python/src/')\n",
    "from train_rf import combining_RF\n",
    "from utilities import create_df_features"
   ]
  },
  {
   "cell_type": "markdown",
   "metadata": {},
   "source": [
    "### TRAINING 1st round"
   ]
  },
  {
   "cell_type": "code",
   "execution_count": 2,
   "metadata": {},
   "outputs": [],
   "source": [
    "input_features = 'features_1er_tag.csv'\n",
    "input_classifier = 'NONE'\n",
    "output_classifier = \"Model/rfc_31.pckl\"\n",
    "\n",
    "# initiate the class specifying path to features, name of the existing classifier and classifier strength\n",
    "glob_class = combining_RF(input_features, input_classifier, 5)\n",
    "\n",
    "# load features extracted on DIVA from tagged voxels\n",
    "# and add log proba of the existing classifier to the features matrix\n",
    "glob_class.__prepare_data_for_training__()\n",
    "\n",
    "# fit the RFC using the features and store it in liste_learner\n",
    "glob_class.__train_RF_classifier__()\n",
    "\n",
    "# save the obtained classifier\n",
    "pickle.dump(glob_class.liste_learner, open(output_classifier, 'wb'))"
   ]
  },
  {
   "cell_type": "markdown",
   "metadata": {},
   "source": [
    "### INFERENCE 1st round"
   ]
  },
  {
   "cell_type": "code",
   "execution_count": 3,
   "metadata": {},
   "outputs": [],
   "source": [
    "# open and load features for all the voxels of 1 packet in json format\n",
    "input_features_file = 'packet7.json'\n",
    "   \n",
    "data_df = create_df_features(input_features_file)"
   ]
  },
  {
   "cell_type": "code",
   "execution_count": 4,
   "metadata": {},
   "outputs": [
    {
     "name": "stderr",
     "output_type": "stream",
     "text": [
      "/home/corentin/anaconda3/envs/voxlea/lib/python3.7/site-packages/sklearn/ensemble/forest.py:635: RuntimeWarning: divide by zero encountered in log\n",
      "  return np.log(proba)\n"
     ]
    }
   ],
   "source": [
    "classifier_filename = 'Model/rfc_31.pckl'\n",
    "\n",
    "glob_class = combining_RF(data_df, classifier_filename, 5)\n",
    "glob_class.__prepare_data_for_inference__()\n",
    "proba = glob_class.__predict_proba__()"
   ]
  },
  {
   "cell_type": "code",
   "execution_count": 5,
   "metadata": {},
   "outputs": [],
   "source": [
    "np.save('Proba/rfc_31', proba)"
   ]
  },
  {
   "cell_type": "code",
   "execution_count": 6,
   "metadata": {},
   "outputs": [],
   "source": [
    "proba = (1 - proba) * 255\n",
    "proba_uint8 = proba.astype(np.uint8)"
   ]
  },
  {
   "cell_type": "code",
   "execution_count": 7,
   "metadata": {},
   "outputs": [
    {
     "data": {
      "text/plain": [
       "((474552,), (474552, 31))"
      ]
     },
     "execution_count": 7,
     "metadata": {},
     "output_type": "execute_result"
    }
   ],
   "source": [
    "proba.shape, glob_class.features.shape"
   ]
  },
  {
   "cell_type": "markdown",
   "metadata": {},
   "source": [
    "### TRAINING 2nd round"
   ]
  },
  {
   "cell_type": "code",
   "execution_count": 8,
   "metadata": {},
   "outputs": [
    {
     "name": "stderr",
     "output_type": "stream",
     "text": [
      "/home/corentin/anaconda3/envs/voxlea/lib/python3.7/site-packages/sklearn/ensemble/forest.py:635: RuntimeWarning: divide by zero encountered in log\n",
      "  return np.log(proba)\n"
     ]
    }
   ],
   "source": [
    "input_features = 'features_2eme_tag.csv'\n",
    "input_classifier = 'Model/rfc_31.pckl'\n",
    "output_classifier = \"Model/rfc_32.pckl\"\n",
    "\n",
    "# initiate the class specifying path to features, name of the existing classifier and classifier strength\n",
    "glob_class = combining_RF(input_features, input_classifier, 5)\n",
    "\n",
    "# load features extracted on DIVA from tagged voxels\n",
    "# and add log proba of the existing classifier to the features matrix\n",
    "glob_class.__prepare_data_for_training__()\n",
    "\n",
    "# fit the RFC using the features and store it in liste_learner\n",
    "glob_class.__train_RF_classifier__()\n",
    "\n",
    "# save the obtained classifier\n",
    "pickle.dump(glob_class.liste_learner, open(output_classifier, 'wb'))"
   ]
  },
  {
   "cell_type": "markdown",
   "metadata": {},
   "source": [
    "### INFERENCE 2nd round"
   ]
  },
  {
   "cell_type": "code",
   "execution_count": 9,
   "metadata": {},
   "outputs": [
    {
     "name": "stderr",
     "output_type": "stream",
     "text": [
      "/home/corentin/anaconda3/envs/voxlea/lib/python3.7/site-packages/sklearn/ensemble/forest.py:635: RuntimeWarning: divide by zero encountered in log\n",
      "  return np.log(proba)\n",
      "/home/corentin/anaconda3/envs/voxlea/lib/python3.7/site-packages/sklearn/ensemble/forest.py:635: RuntimeWarning: divide by zero encountered in log\n",
      "  return np.log(proba)\n"
     ]
    }
   ],
   "source": [
    "classifier_filename = 'Model/rfc_32.pckl'\n",
    "\n",
    "glob_class = combining_RF(data_df, classifier_filename, 5)\n",
    "glob_class.__prepare_data_for_inference__()\n",
    "proba = glob_class.__predict_proba__()"
   ]
  },
  {
   "cell_type": "code",
   "execution_count": 10,
   "metadata": {},
   "outputs": [],
   "source": [
    "np.save('Proba/rfc_32', proba)"
   ]
  },
  {
   "cell_type": "code",
   "execution_count": 11,
   "metadata": {},
   "outputs": [],
   "source": [
    "proba = (1 - proba) * 255\n",
    "proba_uint8 = proba.astype(np.uint8)"
   ]
  },
  {
   "cell_type": "code",
   "execution_count": 12,
   "metadata": {},
   "outputs": [
    {
     "data": {
      "text/plain": [
       "((474552,), (474552, 32))"
      ]
     },
     "execution_count": 12,
     "metadata": {},
     "output_type": "execute_result"
    }
   ],
   "source": [
    "proba.shape, glob_class.features.shape"
   ]
  },
  {
   "cell_type": "code",
   "execution_count": null,
   "metadata": {},
   "outputs": [],
   "source": []
  }
 ],
 "metadata": {
  "kernelspec": {
   "display_name": "Python 3",
   "language": "python",
   "name": "python3"
  },
  "language_info": {
   "codemirror_mode": {
    "name": "ipython",
    "version": 3
   },
   "file_extension": ".py",
   "mimetype": "text/x-python",
   "name": "python",
   "nbconvert_exporter": "python",
   "pygments_lexer": "ipython3",
   "version": "3.7.7"
  }
 },
 "nbformat": 4,
 "nbformat_minor": 4
}
