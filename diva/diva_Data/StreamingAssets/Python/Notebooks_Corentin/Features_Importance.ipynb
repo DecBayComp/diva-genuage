{
 "cells": [
  {
   "cell_type": "code",
   "execution_count": 14,
   "metadata": {},
   "outputs": [],
   "source": [
    "%reload_ext autoreload\n",
    "%autoreload 2\n",
    "\n",
    "import pickle\n",
    "import json\n",
    "import sys\n",
    "import os\n",
    "\n",
    "import base64\n",
    "\n",
    "import numpy as np\n",
    "import pandas as pd\n",
    "\n",
    "sys.path.append('diva-python/src/')\n",
    "from train import combining_classifiers"
   ]
  },
  {
   "cell_type": "code",
   "execution_count": 15,
   "metadata": {},
   "outputs": [],
   "source": [
    "def create_df_features(input_features_file):\n",
    "    \n",
    "    with open(os.path.join('inference', input_features_file), \"r\") as file:\n",
    "        json_data = json.load(file)\n",
    "\n",
    "    image_features = {}\n",
    "\n",
    "    for label_data, feature_data_str in json_data.items():\n",
    "        feature_data_str_ascii = feature_data_str.encode(\"ascii\")\n",
    "        feature_data = base64.b64decode(feature_data_str_ascii)\n",
    "        image_features[label_data] = np.frombuffer(feature_data, dtype=np.uint8).astype(np.float)\n",
    "\n",
    "    data_df = pd.DataFrame({str(label): image_features[label] for label in image_features})\n",
    "    \n",
    "    return data_df"
   ]
  },
  {
   "cell_type": "code",
   "execution_count": 20,
   "metadata": {},
   "outputs": [],
   "source": [
    "# open and load features for all the voxels of 1 packet in json format\n",
    "input_features_file = 'packet1.json'\n",
    "\n",
    "data_df = create_df_features(input_features_file) "
   ]
  },
  {
   "cell_type": "code",
   "execution_count": 21,
   "metadata": {},
   "outputs": [],
   "source": [
    "classifier_path = 'Model/classif_2nd_round.pckl'\n",
    "\n",
    "liste_learner = pickle.load(open(classifier_path, 'rb'))"
   ]
  },
  {
   "cell_type": "code",
   "execution_count": 22,
   "metadata": {},
   "outputs": [
    {
     "data": {
      "text/plain": [
       "{'c1': RandomForestClassifier(bootstrap=True, class_weight=None, criterion='gini',\n",
       "                        max_depth=50, max_features='sqrt', max_leaf_nodes=None,\n",
       "                        min_impurity_decrease=0.0, min_impurity_split=None,\n",
       "                        min_samples_leaf=1, min_samples_split=2,\n",
       "                        min_weight_fraction_leaf=0.0, n_estimators=50,\n",
       "                        n_jobs=None, oob_score=True, random_state=None,\n",
       "                        verbose=0, warm_start=False),\n",
       " 'c2': AdaBoostClassifier(algorithm='SAMME.R',\n",
       "                    base_estimator=DecisionTreeClassifier(class_weight=None,\n",
       "                                                          criterion='gini',\n",
       "                                                          max_depth=10,\n",
       "                                                          max_features=None,\n",
       "                                                          max_leaf_nodes=None,\n",
       "                                                          min_impurity_decrease=0.0,\n",
       "                                                          min_impurity_split=None,\n",
       "                                                          min_samples_leaf=1,\n",
       "                                                          min_samples_split=2,\n",
       "                                                          min_weight_fraction_leaf=0.0,\n",
       "                                                          presort=False,\n",
       "                                                          random_state=None,\n",
       "                                                          splitter='best'),\n",
       "                    learning_rate=0.1, n_estimators=25, random_state=None),\n",
       " 'c3': AdaBoostClassifier(algorithm='SAMME.R',\n",
       "                    base_estimator=SGDClassifier(alpha=0.0001, average=False,\n",
       "                                                 class_weight=None,\n",
       "                                                 early_stopping=False,\n",
       "                                                 epsilon=0.1, eta0=0.0,\n",
       "                                                 fit_intercept=True,\n",
       "                                                 l1_ratio=0.15,\n",
       "                                                 learning_rate='optimal',\n",
       "                                                 loss='log', max_iter=1000,\n",
       "                                                 n_iter_no_change=5, n_jobs=None,\n",
       "                                                 penalty='elasticnet',\n",
       "                                                 power_t=0.5, random_state=None,\n",
       "                                                 shuffle=True, tol=0.001,\n",
       "                                                 validation_fraction=0.1,\n",
       "                                                 verbose=0, warm_start=False),\n",
       "                    learning_rate=0.1, n_estimators=25, random_state=None),\n",
       " 'c4': <catboost.core.CatBoostClassifier at 0x7ff540f88790>,\n",
       " 'c5': GaussianProcessClassifier(copy_X_train=False, kernel=1**2 * RBF(length_scale=1),\n",
       "                           max_iter_predict=100, multi_class='one_vs_rest',\n",
       "                           n_jobs=None, n_restarts_optimizer=0,\n",
       "                           optimizer='fmin_l_bfgs_b', random_state=0,\n",
       "                           warm_start=False),\n",
       " 'main': XGBClassifier(base_score=0.5, booster='dart', colsample_bylevel=1,\n",
       "               colsample_bynode=1, colsample_bytree=1, gamma=0,\n",
       "               learning_rate=0.1, max_delta_step=0, max_depth=5,\n",
       "               min_child_weight=1, missing=nan, n_estimators=100, n_jobs=1,\n",
       "               normalize_type='tree', nthread=None, objective='binary:logistic',\n",
       "               random_state=0, reg_alpha=0, reg_lambda=1,\n",
       "               sampling_type='uniform', scale_pos_weight=1, seed=None,\n",
       "               silent=None, subsample=1, verbosity=1)}"
      ]
     },
     "execution_count": 22,
     "metadata": {},
     "output_type": "execute_result"
    }
   ],
   "source": [
    "liste_learner[0]"
   ]
  },
  {
   "cell_type": "code",
   "execution_count": 23,
   "metadata": {},
   "outputs": [],
   "source": [
    "rf_2 = liste_learner[1]['c1']\n",
    "\n",
    "keys = list(data_df.columns)\n",
    "keys.extend(['log_proba RF_31', 'log_proba adatree_31', 'log_proba adasvd_31',\n",
    "             'log_proba catboost_31', 'log_proba gpc', 'log_proba xgbc_35'])\n",
    "values = rf_2.feature_importances_"
   ]
  },
  {
   "cell_type": "code",
   "execution_count": 24,
   "metadata": {},
   "outputs": [
    {
     "data": {
      "text/plain": [
       "0.02702702702702703"
      ]
     },
     "execution_count": 24,
     "metadata": {},
     "output_type": "execute_result"
    }
   ],
   "source": [
    "assert len(keys) == len(values)\n",
    "\n",
    "feat_imp_dict = dict(zip(keys, values))\n",
    "1/len(keys)"
   ]
  },
  {
   "cell_type": "code",
   "execution_count": 25,
   "metadata": {},
   "outputs": [
    {
     "name": "stdout",
     "output_type": "stream",
     "text": [
      "log_proba catboost_31: 0.10445449316494317\n",
      "log_proba RF_31: 0.09697961510443576\n",
      "log_proba gpc: 0.08899970841340693\n",
      "log_proba adasvd_31: 0.08155151411194596\n",
      "MAXIMUM_5x5x5: 0.06254940563743547\n",
      "GAUSSIAN_3x3x3: 0.05733546374802421\n",
      "MEAN_7x7x7: 0.05612727257958917\n",
      "STDDEV_5x5x5: 0.04441256133307712\n",
      "STDDEV_7x7x7: 0.042455238286355175\n",
      "MAXIMUM_7x7x7: 0.0408290359370924\n",
      "GRADIENT_7x7x7: 0.03963126823854171\n",
      "GAUSSIAN_5x5x5: 0.036298790862021375\n",
      "ENTROPY_7x7x7: 0.034543702408205874\n",
      "GAUSSIAN_7x7x7: 0.030692472558097775\n",
      "log_proba adatree_31: 0.02922046698074686\n",
      "MAXIMUM_3x3x3: 0.02663404742037132\n",
      "MEAN_5x5x5: 0.02327523405689756\n",
      "GRADIENT_5x5x5: 0.019140156719659306\n",
      "ENTROPY_5x5x5: 0.012511232708871143\n",
      "log_proba xgbc_35: 0.010530976714788358\n",
      "VALUE_M_BLUR_7x7x7: 0.008416672196587741\n",
      "GRADIENT_3x3x3: 0.00780979831348879\n",
      "LAPLACE_5x5x5: 0.006099597735503215\n",
      "LAPLACE_7x7x7: 0.0055161652838404684\n",
      "MEAN_3x3x3: 0.0051688355464671615\n",
      "VALUE_M_BLUR_5x5x5: 0.004831247987510898\n",
      "STDDEV_3x3x3: 0.0044987644698912\n",
      "VALUE_M_BLUR_3x3x3: 0.0044771426951606495\n",
      "PIXEL_VALUE: 0.003733066532196012\n",
      "LAPLACE_3x3x3: 0.003163290785083422\n",
      "MEDIAN_3x3x3: 0.003148047224750939\n",
      "MEDIAN_7x7x7: 0.0015368235277183106\n",
      "MEDIAN_5x5x5: 0.0014826744425908375\n",
      "ENTROPY_3x3x3: 0.0013911504805405933\n",
      "MINIMUM_3x3x3: 0.0005540657941632795\n",
      "MINIMUM_5x5x5: 0.0\n",
      "MINIMUM_7x7x7: 0.0\n"
     ]
    }
   ],
   "source": [
    "for key, value in sorted(feat_imp_dict.items(), key=lambda item: item[1], reverse=True):\n",
    "    print(\"%s: %s\" % (key, value))"
   ]
  },
  {
   "cell_type": "code",
   "execution_count": null,
   "metadata": {},
   "outputs": [],
   "source": []
  },
  {
   "cell_type": "code",
   "execution_count": 27,
   "metadata": {},
   "outputs": [],
   "source": [
    "catboost_2 = liste_learner[1]['c4']\n",
    "\n",
    "keys = list(data_df.columns)\n",
    "keys.extend(['log_proba RF_31', 'log_proba adatree_31', 'log_proba adasvd_31',\n",
    "             'log_proba catboost_31', 'log_proba gpc', 'log_proba xgbc_35'])"
   ]
  },
  {
   "cell_type": "code",
   "execution_count": 53,
   "metadata": {},
   "outputs": [],
   "source": [
    "values = catboost_2.get_feature_importance(prettified=False)"
   ]
  },
  {
   "cell_type": "code",
   "execution_count": 55,
   "metadata": {},
   "outputs": [],
   "source": [
    "feat_imp = pd.DataFrame(index=keys)\n",
    "\n",
    "feat_imp['Catboost'] = values"
   ]
  },
  {
   "cell_type": "code",
   "execution_count": 56,
   "metadata": {},
   "outputs": [
    {
     "data": {
      "text/html": [
       "<div>\n",
       "<style scoped>\n",
       "    .dataframe tbody tr th:only-of-type {\n",
       "        vertical-align: middle;\n",
       "    }\n",
       "\n",
       "    .dataframe tbody tr th {\n",
       "        vertical-align: top;\n",
       "    }\n",
       "\n",
       "    .dataframe thead th {\n",
       "        text-align: right;\n",
       "    }\n",
       "</style>\n",
       "<table border=\"1\" class=\"dataframe\">\n",
       "  <thead>\n",
       "    <tr style=\"text-align: right;\">\n",
       "      <th></th>\n",
       "      <th>Catboost</th>\n",
       "    </tr>\n",
       "  </thead>\n",
       "  <tbody>\n",
       "    <tr>\n",
       "      <th>PIXEL_VALUE</th>\n",
       "      <td>0.142861</td>\n",
       "    </tr>\n",
       "    <tr>\n",
       "      <th>MINIMUM_3x3x3</th>\n",
       "      <td>0.161394</td>\n",
       "    </tr>\n",
       "    <tr>\n",
       "      <th>MINIMUM_5x5x5</th>\n",
       "      <td>0.007715</td>\n",
       "    </tr>\n",
       "    <tr>\n",
       "      <th>MINIMUM_7x7x7</th>\n",
       "      <td>0.000000</td>\n",
       "    </tr>\n",
       "    <tr>\n",
       "      <th>MAXIMUM_3x3x3</th>\n",
       "      <td>1.132105</td>\n",
       "    </tr>\n",
       "    <tr>\n",
       "      <th>MAXIMUM_5x5x5</th>\n",
       "      <td>5.706833</td>\n",
       "    </tr>\n",
       "    <tr>\n",
       "      <th>MAXIMUM_7x7x7</th>\n",
       "      <td>15.331273</td>\n",
       "    </tr>\n",
       "    <tr>\n",
       "      <th>MEAN_3x3x3</th>\n",
       "      <td>0.639419</td>\n",
       "    </tr>\n",
       "    <tr>\n",
       "      <th>MEAN_5x5x5</th>\n",
       "      <td>1.096408</td>\n",
       "    </tr>\n",
       "    <tr>\n",
       "      <th>MEAN_7x7x7</th>\n",
       "      <td>7.183289</td>\n",
       "    </tr>\n",
       "    <tr>\n",
       "      <th>STDDEV_3x3x3</th>\n",
       "      <td>0.531187</td>\n",
       "    </tr>\n",
       "    <tr>\n",
       "      <th>STDDEV_5x5x5</th>\n",
       "      <td>3.147111</td>\n",
       "    </tr>\n",
       "    <tr>\n",
       "      <th>STDDEV_7x7x7</th>\n",
       "      <td>9.185886</td>\n",
       "    </tr>\n",
       "    <tr>\n",
       "      <th>GAUSSIAN_3x3x3</th>\n",
       "      <td>0.989476</td>\n",
       "    </tr>\n",
       "    <tr>\n",
       "      <th>GAUSSIAN_5x5x5</th>\n",
       "      <td>1.952969</td>\n",
       "    </tr>\n",
       "    <tr>\n",
       "      <th>GAUSSIAN_7x7x7</th>\n",
       "      <td>2.178583</td>\n",
       "    </tr>\n",
       "    <tr>\n",
       "      <th>GRADIENT_3x3x3</th>\n",
       "      <td>1.294123</td>\n",
       "    </tr>\n",
       "    <tr>\n",
       "      <th>GRADIENT_5x5x5</th>\n",
       "      <td>3.529588</td>\n",
       "    </tr>\n",
       "    <tr>\n",
       "      <th>GRADIENT_7x7x7</th>\n",
       "      <td>5.458338</td>\n",
       "    </tr>\n",
       "    <tr>\n",
       "      <th>LAPLACE_3x3x3</th>\n",
       "      <td>0.287714</td>\n",
       "    </tr>\n",
       "    <tr>\n",
       "      <th>LAPLACE_5x5x5</th>\n",
       "      <td>0.444346</td>\n",
       "    </tr>\n",
       "    <tr>\n",
       "      <th>LAPLACE_7x7x7</th>\n",
       "      <td>1.190202</td>\n",
       "    </tr>\n",
       "    <tr>\n",
       "      <th>VALUE_M_BLUR_3x3x3</th>\n",
       "      <td>0.285623</td>\n",
       "    </tr>\n",
       "    <tr>\n",
       "      <th>VALUE_M_BLUR_5x5x5</th>\n",
       "      <td>0.892843</td>\n",
       "    </tr>\n",
       "    <tr>\n",
       "      <th>VALUE_M_BLUR_7x7x7</th>\n",
       "      <td>0.479451</td>\n",
       "    </tr>\n",
       "    <tr>\n",
       "      <th>MEDIAN_3x3x3</th>\n",
       "      <td>0.789674</td>\n",
       "    </tr>\n",
       "    <tr>\n",
       "      <th>MEDIAN_5x5x5</th>\n",
       "      <td>0.939184</td>\n",
       "    </tr>\n",
       "    <tr>\n",
       "      <th>MEDIAN_7x7x7</th>\n",
       "      <td>1.221668</td>\n",
       "    </tr>\n",
       "    <tr>\n",
       "      <th>ENTROPY_3x3x3</th>\n",
       "      <td>0.079308</td>\n",
       "    </tr>\n",
       "    <tr>\n",
       "      <th>ENTROPY_5x5x5</th>\n",
       "      <td>1.579150</td>\n",
       "    </tr>\n",
       "    <tr>\n",
       "      <th>ENTROPY_7x7x7</th>\n",
       "      <td>8.508455</td>\n",
       "    </tr>\n",
       "    <tr>\n",
       "      <th>log_proba RF_31</th>\n",
       "      <td>6.823530</td>\n",
       "    </tr>\n",
       "    <tr>\n",
       "      <th>log_proba adatree_31</th>\n",
       "      <td>1.025817</td>\n",
       "    </tr>\n",
       "    <tr>\n",
       "      <th>log_proba adasvd_31</th>\n",
       "      <td>3.359546</td>\n",
       "    </tr>\n",
       "    <tr>\n",
       "      <th>log_proba catboost_31</th>\n",
       "      <td>7.438317</td>\n",
       "    </tr>\n",
       "    <tr>\n",
       "      <th>log_proba gpc</th>\n",
       "      <td>3.956319</td>\n",
       "    </tr>\n",
       "    <tr>\n",
       "      <th>log_proba xgbc_35</th>\n",
       "      <td>1.030295</td>\n",
       "    </tr>\n",
       "  </tbody>\n",
       "</table>\n",
       "</div>"
      ],
      "text/plain": [
       "                        Catboost\n",
       "PIXEL_VALUE             0.142861\n",
       "MINIMUM_3x3x3           0.161394\n",
       "MINIMUM_5x5x5           0.007715\n",
       "MINIMUM_7x7x7           0.000000\n",
       "MAXIMUM_3x3x3           1.132105\n",
       "MAXIMUM_5x5x5           5.706833\n",
       "MAXIMUM_7x7x7          15.331273\n",
       "MEAN_3x3x3              0.639419\n",
       "MEAN_5x5x5              1.096408\n",
       "MEAN_7x7x7              7.183289\n",
       "STDDEV_3x3x3            0.531187\n",
       "STDDEV_5x5x5            3.147111\n",
       "STDDEV_7x7x7            9.185886\n",
       "GAUSSIAN_3x3x3          0.989476\n",
       "GAUSSIAN_5x5x5          1.952969\n",
       "GAUSSIAN_7x7x7          2.178583\n",
       "GRADIENT_3x3x3          1.294123\n",
       "GRADIENT_5x5x5          3.529588\n",
       "GRADIENT_7x7x7          5.458338\n",
       "LAPLACE_3x3x3           0.287714\n",
       "LAPLACE_5x5x5           0.444346\n",
       "LAPLACE_7x7x7           1.190202\n",
       "VALUE_M_BLUR_3x3x3      0.285623\n",
       "VALUE_M_BLUR_5x5x5      0.892843\n",
       "VALUE_M_BLUR_7x7x7      0.479451\n",
       "MEDIAN_3x3x3            0.789674\n",
       "MEDIAN_5x5x5            0.939184\n",
       "MEDIAN_7x7x7            1.221668\n",
       "ENTROPY_3x3x3           0.079308\n",
       "ENTROPY_5x5x5           1.579150\n",
       "ENTROPY_7x7x7           8.508455\n",
       "log_proba RF_31         6.823530\n",
       "log_proba adatree_31    1.025817\n",
       "log_proba adasvd_31     3.359546\n",
       "log_proba catboost_31   7.438317\n",
       "log_proba gpc           3.956319\n",
       "log_proba xgbc_35       1.030295"
      ]
     },
     "execution_count": 56,
     "metadata": {},
     "output_type": "execute_result"
    }
   ],
   "source": [
    "feat_imp"
   ]
  },
  {
   "cell_type": "code",
   "execution_count": 63,
   "metadata": {},
   "outputs": [
    {
     "data": {
      "text/plain": [
       "<matplotlib.axes._subplots.AxesSubplot at 0x7ff531ca9a50>"
      ]
     },
     "execution_count": 63,
     "metadata": {},
     "output_type": "execute_result"
    },
    {
     "data": {
      "image/png": "[encoded data removed]",
      "text/plain": [
       "<Figure size 432x288 with 1 Axes>"
      ]
     },
     "metadata": {
      "needs_background": "light"
     },
     "output_type": "display_data"
    }
   ],
   "source": [
    "feat_imp.sort_values(by='Catboost', ascending=True).plot.barh()"
   ]
  },
  {
   "cell_type": "code",
   "execution_count": null,
   "metadata": {},
   "outputs": [],
   "source": []
  },
  {
   "cell_type": "code",
   "execution_count": null,
   "metadata": {},
   "outputs": [],
   "source": []
  }
 ],
 "metadata": {
  "kernelspec": {
   "display_name": "Python 3",
   "language": "python",
   "name": "python3"
  },
  "language_info": {
   "codemirror_mode": {
    "name": "ipython",
    "version": 3
   },
   "file_extension": ".py",
   "mimetype": "text/x-python",
   "name": "python",
   "nbconvert_exporter": "python",
   "pygments_lexer": "ipython3",
   "version": "3.7.7"
  }
 },
 "nbformat": 4,
 "nbformat_minor": 4
}
