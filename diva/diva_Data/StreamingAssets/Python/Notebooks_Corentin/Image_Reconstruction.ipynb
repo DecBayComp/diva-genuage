{
 "cells": [
  {
   "cell_type": "code",
   "execution_count": 1,
   "metadata": {},
   "outputs": [],
   "source": [
    "%reload_ext autoreload\n",
    "%autoreload 2\n",
    "\n",
    "import pickle\n",
    "import sys\n",
    "import os\n",
    "\n",
    "import numpy as np\n",
    "import pandas as pd\n",
    "from skimage.external import tifffile as T\n",
    "from skimage import img_as_float, img_as_uint, img_as_ubyte\n",
    "from scipy.ndimage.filters import gaussian_filter, median_filter\n",
    "\n",
    "sys.path.append('/home/corentin/Voxlea/diva-python/src/')\n",
    "from train_rf import combining_RF\n",
    "from train import combining_classifiers\n",
    "\n",
    "from utilities import create_df_features, create_file_list"
   ]
  },
  {
   "cell_type": "markdown",
   "metadata": {},
   "source": [
    "### Change Workspace Directory"
   ]
  },
  {
   "cell_type": "code",
   "execution_count": 2,
   "metadata": {},
   "outputs": [
    {
     "name": "stdout",
     "output_type": "stream",
     "text": [
      "/home/corentin/Voxlea/Exemple_1\n"
     ]
    }
   ],
   "source": [
    "%cd /home/corentin/Voxlea/Exemple_1"
   ]
  },
  {
   "cell_type": "markdown",
   "metadata": {},
   "source": [
    "## Inference full image"
   ]
  },
  {
   "cell_type": "code",
   "execution_count": null,
   "metadata": {},
   "outputs": [
    {
     "name": "stdout",
     "output_type": "stream",
     "text": [
      "PACKET 0\n"
     ]
    },
    {
     "name": "stderr",
     "output_type": "stream",
     "text": [
      "/home/corentin/anaconda3/envs/voxlea/lib/python3.7/site-packages/sklearn/ensemble/forest.py:635: RuntimeWarning: divide by zero encountered in log\n",
      "  return np.log(proba)\n"
     ]
    },
    {
     "name": "stdout",
     "output_type": "stream",
     "text": [
      "Classifier c1 inference time: 1.4276132583618164\n",
      "Classifier c2 inference time: 2.1600120067596436\n",
      "Classifier c3 inference time: 3.790403127670288\n",
      "Classifier c4 inference time: 0.7656071186065674\n",
      "Main Classifier inference time: 0.3620643615722656\n"
     ]
    },
    {
     "name": "stderr",
     "output_type": "stream",
     "text": [
      "/home/corentin/anaconda3/envs/voxlea/lib/python3.7/site-packages/sklearn/ensemble/forest.py:635: RuntimeWarning: divide by zero encountered in log\n",
      "  return np.log(proba)\n"
     ]
    },
    {
     "name": "stdout",
     "output_type": "stream",
     "text": [
      "Classifier c1 inference time: 1.6824951171875\n",
      "Classifier c2 inference time: 2.3689351081848145\n",
      "Classifier c3 inference time: 4.144448518753052\n",
      "Classifier c4 inference time: 4.617883920669556\n",
      "Main Classifier inference time: 0.419264554977417\n",
      "PACKET 1\n"
     ]
    },
    {
     "name": "stderr",
     "output_type": "stream",
     "text": [
      "/home/corentin/anaconda3/envs/voxlea/lib/python3.7/site-packages/sklearn/ensemble/forest.py:635: RuntimeWarning: divide by zero encountered in log\n",
      "  return np.log(proba)\n"
     ]
    },
    {
     "name": "stdout",
     "output_type": "stream",
     "text": [
      "Classifier c1 inference time: 1.470787525177002\n",
      "Classifier c2 inference time: 2.1816999912261963\n",
      "Classifier c3 inference time: 3.7354352474212646\n",
      "Classifier c4 inference time: 0.7549970149993896\n",
      "Main Classifier inference time: 0.32555699348449707\n"
     ]
    },
    {
     "name": "stderr",
     "output_type": "stream",
     "text": [
      "/home/corentin/anaconda3/envs/voxlea/lib/python3.7/site-packages/sklearn/ensemble/forest.py:635: RuntimeWarning: divide by zero encountered in log\n",
      "  return np.log(proba)\n"
     ]
    },
    {
     "name": "stdout",
     "output_type": "stream",
     "text": [
      "Classifier c1 inference time: 1.6960816383361816\n",
      "Classifier c2 inference time: 2.3800859451293945\n",
      "Classifier c3 inference time: 4.130540609359741\n",
      "Classifier c4 inference time: 4.417762994766235\n",
      "Main Classifier inference time: 0.3725583553314209\n",
      "PACKET 2\n"
     ]
    },
    {
     "name": "stderr",
     "output_type": "stream",
     "text": [
      "/home/corentin/anaconda3/envs/voxlea/lib/python3.7/site-packages/sklearn/ensemble/forest.py:635: RuntimeWarning: divide by zero encountered in log\n",
      "  return np.log(proba)\n"
     ]
    },
    {
     "name": "stdout",
     "output_type": "stream",
     "text": [
      "Classifier c1 inference time: 1.452911376953125\n",
      "Classifier c2 inference time: 2.1186771392822266\n",
      "Classifier c3 inference time: 3.7358314990997314\n",
      "Classifier c4 inference time: 0.8309152126312256\n",
      "Main Classifier inference time: 0.3447420597076416\n"
     ]
    },
    {
     "name": "stderr",
     "output_type": "stream",
     "text": [
      "/home/corentin/anaconda3/envs/voxlea/lib/python3.7/site-packages/sklearn/ensemble/forest.py:635: RuntimeWarning: divide by zero encountered in log\n",
      "  return np.log(proba)\n"
     ]
    },
    {
     "name": "stdout",
     "output_type": "stream",
     "text": [
      "Classifier c1 inference time: 1.6576690673828125\n",
      "Classifier c2 inference time: 2.3802106380462646\n",
      "Classifier c3 inference time: 4.202630996704102\n",
      "Classifier c4 inference time: 4.261611461639404\n",
      "Main Classifier inference time: 0.36682558059692383\n",
      "PACKET 3\n"
     ]
    },
    {
     "name": "stderr",
     "output_type": "stream",
     "text": [
      "/home/corentin/anaconda3/envs/voxlea/lib/python3.7/site-packages/sklearn/ensemble/forest.py:635: RuntimeWarning: divide by zero encountered in log\n",
      "  return np.log(proba)\n"
     ]
    },
    {
     "name": "stdout",
     "output_type": "stream",
     "text": [
      "Classifier c1 inference time: 1.405095100402832\n",
      "Classifier c2 inference time: 2.14440655708313\n",
      "Classifier c3 inference time: 3.702601194381714\n",
      "Classifier c4 inference time: 0.8496506214141846\n",
      "Main Classifier inference time: 0.4134359359741211\n"
     ]
    },
    {
     "name": "stderr",
     "output_type": "stream",
     "text": [
      "/home/corentin/anaconda3/envs/voxlea/lib/python3.7/site-packages/sklearn/ensemble/forest.py:635: RuntimeWarning: divide by zero encountered in log\n",
      "  return np.log(proba)\n"
     ]
    },
    {
     "name": "stdout",
     "output_type": "stream",
     "text": [
      "Classifier c1 inference time: 1.7265002727508545\n",
      "Classifier c2 inference time: 2.506744623184204\n",
      "Classifier c3 inference time: 4.3612143993377686\n",
      "Classifier c4 inference time: 4.55514669418335\n",
      "Main Classifier inference time: 0.371196985244751\n",
      "PACKET 4\n"
     ]
    },
    {
     "name": "stderr",
     "output_type": "stream",
     "text": [
      "/home/corentin/anaconda3/envs/voxlea/lib/python3.7/site-packages/sklearn/ensemble/forest.py:635: RuntimeWarning: divide by zero encountered in log\n",
      "  return np.log(proba)\n"
     ]
    },
    {
     "name": "stdout",
     "output_type": "stream",
     "text": [
      "Classifier c1 inference time: 1.4310803413391113\n",
      "Classifier c2 inference time: 2.1201705932617188\n",
      "Classifier c3 inference time: 3.814281940460205\n",
      "Classifier c4 inference time: 0.7659838199615479\n",
      "Main Classifier inference time: 0.3467106819152832\n"
     ]
    },
    {
     "name": "stderr",
     "output_type": "stream",
     "text": [
      "/home/corentin/anaconda3/envs/voxlea/lib/python3.7/site-packages/sklearn/ensemble/forest.py:635: RuntimeWarning: divide by zero encountered in log\n",
      "  return np.log(proba)\n"
     ]
    },
    {
     "name": "stdout",
     "output_type": "stream",
     "text": [
      "Classifier c1 inference time: 1.69500732421875\n",
      "Classifier c2 inference time: 2.3946449756622314\n",
      "Classifier c3 inference time: 4.362111806869507\n",
      "Classifier c4 inference time: 4.26613450050354\n",
      "Main Classifier inference time: 0.41242074966430664\n",
      "PACKET 5\n"
     ]
    },
    {
     "name": "stderr",
     "output_type": "stream",
     "text": [
      "/home/corentin/anaconda3/envs/voxlea/lib/python3.7/site-packages/sklearn/ensemble/forest.py:635: RuntimeWarning: divide by zero encountered in log\n",
      "  return np.log(proba)\n"
     ]
    },
    {
     "name": "stdout",
     "output_type": "stream",
     "text": [
      "Classifier c1 inference time: 1.4432244300842285\n",
      "Classifier c2 inference time: 2.159048080444336\n",
      "Classifier c3 inference time: 3.7709522247314453\n",
      "Classifier c4 inference time: 0.7768807411193848\n",
      "Main Classifier inference time: 0.34648728370666504\n"
     ]
    },
    {
     "name": "stderr",
     "output_type": "stream",
     "text": [
      "/home/corentin/anaconda3/envs/voxlea/lib/python3.7/site-packages/sklearn/ensemble/forest.py:635: RuntimeWarning: divide by zero encountered in log\n",
      "  return np.log(proba)\n"
     ]
    },
    {
     "name": "stdout",
     "output_type": "stream",
     "text": [
      "Classifier c1 inference time: 1.6369900703430176\n",
      "Classifier c2 inference time: 2.3882789611816406\n",
      "Classifier c3 inference time: 4.182196140289307\n",
      "Classifier c4 inference time: 4.4265406131744385\n",
      "Main Classifier inference time: 0.37331724166870117\n",
      "PACKET 6\n"
     ]
    },
    {
     "name": "stderr",
     "output_type": "stream",
     "text": [
      "/home/corentin/anaconda3/envs/voxlea/lib/python3.7/site-packages/sklearn/ensemble/forest.py:635: RuntimeWarning: divide by zero encountered in log\n",
      "  return np.log(proba)\n"
     ]
    },
    {
     "name": "stdout",
     "output_type": "stream",
     "text": [
      "Classifier c1 inference time: 1.4259445667266846\n",
      "Classifier c2 inference time: 2.0989277362823486\n",
      "Classifier c3 inference time: 3.760197877883911\n",
      "Classifier c4 inference time: 0.7514493465423584\n",
      "Main Classifier inference time: 0.3795664310455322\n"
     ]
    },
    {
     "name": "stderr",
     "output_type": "stream",
     "text": [
      "/home/corentin/anaconda3/envs/voxlea/lib/python3.7/site-packages/sklearn/ensemble/forest.py:635: RuntimeWarning: divide by zero encountered in log\n",
      "  return np.log(proba)\n"
     ]
    },
    {
     "name": "stdout",
     "output_type": "stream",
     "text": [
      "Classifier c1 inference time: 1.6602587699890137\n",
      "Classifier c2 inference time: 2.4165971279144287\n",
      "Classifier c3 inference time: 4.2313573360443115\n",
      "Classifier c4 inference time: 4.3769850730896\n",
      "Main Classifier inference time: 0.36688899993896484\n",
      "PACKET 7\n"
     ]
    },
    {
     "name": "stderr",
     "output_type": "stream",
     "text": [
      "/home/corentin/anaconda3/envs/voxlea/lib/python3.7/site-packages/sklearn/ensemble/forest.py:635: RuntimeWarning: divide by zero encountered in log\n",
      "  return np.log(proba)\n"
     ]
    },
    {
     "name": "stdout",
     "output_type": "stream",
     "text": [
      "Classifier c1 inference time: 1.4019861221313477\n",
      "Classifier c2 inference time: 2.140491247177124\n",
      "Classifier c3 inference time: 3.800370693206787\n",
      "Classifier c4 inference time: 0.9499642848968506\n",
      "Main Classifier inference time: 0.39089536666870117\n"
     ]
    },
    {
     "name": "stderr",
     "output_type": "stream",
     "text": [
      "/home/corentin/anaconda3/envs/voxlea/lib/python3.7/site-packages/sklearn/ensemble/forest.py:635: RuntimeWarning: divide by zero encountered in log\n",
      "  return np.log(proba)\n"
     ]
    },
    {
     "name": "stdout",
     "output_type": "stream",
     "text": [
      "Classifier c1 inference time: 1.7244889736175537\n",
      "Classifier c2 inference time: 2.4541444778442383\n",
      "Classifier c3 inference time: 4.1826395988464355\n",
      "Classifier c4 inference time: 4.238427639007568\n",
      "Main Classifier inference time: 0.3700580596923828\n",
      "PACKET 8\n"
     ]
    },
    {
     "name": "stderr",
     "output_type": "stream",
     "text": [
      "/home/corentin/anaconda3/envs/voxlea/lib/python3.7/site-packages/sklearn/ensemble/forest.py:635: RuntimeWarning: divide by zero encountered in log\n",
      "  return np.log(proba)\n"
     ]
    },
    {
     "name": "stdout",
     "output_type": "stream",
     "text": [
      "Classifier c1 inference time: 1.391361951828003\n",
      "Classifier c2 inference time: 2.1167140007019043\n",
      "Classifier c3 inference time: 3.6543705463409424\n",
      "Classifier c4 inference time: 0.7942333221435547\n",
      "Main Classifier inference time: 0.40592288970947266\n"
     ]
    },
    {
     "name": "stderr",
     "output_type": "stream",
     "text": [
      "/home/corentin/anaconda3/envs/voxlea/lib/python3.7/site-packages/sklearn/ensemble/forest.py:635: RuntimeWarning: divide by zero encountered in log\n",
      "  return np.log(proba)\n"
     ]
    },
    {
     "name": "stdout",
     "output_type": "stream",
     "text": [
      "Classifier c1 inference time: 1.7154407501220703\n",
      "Classifier c2 inference time: 2.3916447162628174\n"
     ]
    }
   ],
   "source": [
    "# specify which classifier is used for the inference\n",
    "model_name = 'xgbw2_xgbw1'\n",
    "classifier_filename = 'Model/' + model_name + '.pckl'\n",
    "\n",
    "# get all json files in a folder - here the packets to recontruct back the initial image\n",
    "packet_list = create_file_list('inference', 'json')\n",
    "\n",
    "# list of packets with proba format uint8 to reconstruct further\n",
    "proba_packet_list = []\n",
    "\n",
    "# iterate over the packets\n",
    "for i, input_features_file in enumerate(packet_list):\n",
    "    print('PACKET', i)\n",
    "    # create df with all features\n",
    "    data_df = create_df_features(input_features_file)\n",
    "    \n",
    "    # perform inference\n",
    "    glob_class = combining_classifiers(data_df, classifier_filename, 5)\n",
    "    glob_class.__prepare_data_for_inference__()\n",
    "    proba = glob_class.__predict_proba__()\n",
    "\n",
    "    # convert proba to uint8\n",
    "    proba = (1 - proba) * 255\n",
    "    proba_uint8 = proba.astype(np.uint8)\n",
    "    proba_packet_list.append(proba_uint8)"
   ]
  },
  {
   "cell_type": "code",
   "execution_count": null,
   "metadata": {},
   "outputs": [],
   "source": [
    "# open initial image to have info about reconstruction\n",
    "orig_image = T.imread('C2-S8a1_crop_ch2.tif')\n",
    "z, y, x = orig_image.shape\n",
    "nb_blocs = [dim // 78 + 1 for dim in orig_image.shape]\n",
    "nb_blocs_z, nb_blocs_y, nb_blocs_x = nb_blocs"
   ]
  },
  {
   "cell_type": "code",
   "execution_count": null,
   "metadata": {},
   "outputs": [],
   "source": [
    "# reshape and put back to initial orientation each packets\n",
    "list_blocs = [np.flip(np.reshape(proba, [78, 78, 78], order='C'), axis=1) for proba in proba_packet_list]\n",
    "\n",
    "list_blocs_x = []\n",
    "\n",
    "bloc_base = list_blocs[0][7:-7, 7:-7, 7:-7]\n",
    "for ind_x in range(1, nb_blocs_x-1):\n",
    "    bloc_base = np.concatenate((bloc_base, list_blocs[ind_x][7:-7, 7:-7, 8:-7]), axis=2)\n",
    "bloc_base = np.concatenate((bloc_base, list_blocs[nb_blocs_x-1][7:-7, 7:-7, 8:]), axis=2)\n",
    "list_blocs_x.append(bloc_base)\n",
    "\n",
    "for ind_y in range(1, nb_blocs_y-1):\n",
    "    \n",
    "    bloc_int = list_blocs[ind_y*nb_blocs_x][7:-7, 7:-8, 7:-7]\n",
    "    for ind_x in range(1, nb_blocs_x-1):\n",
    "        bloc_int = np.concatenate((bloc_int, list_blocs[ind_y*nb_blocs_x + ind_x][7:-7, 7:-8, 8:-7]), axis=2)\n",
    "    bloc_int = np.concatenate((bloc_int, list_blocs[(ind_y + 1)*nb_blocs_x - 1][7:-7, 7:-8, 8:]), axis=2)\n",
    "    list_blocs_x.append(bloc_int)\n",
    "    \n",
    "bloc_top = list_blocs[(nb_blocs_y-1)*nb_blocs_x][7:-7, :-8, 7:-7]\n",
    "for ind_x in range(1, nb_blocs_x-1):\n",
    "    bloc_top = np.concatenate((bloc_top, list_blocs[(nb_blocs_y - 1)*nb_blocs_x + ind_x][7:-7, :-8, 8:-7]), axis=2)\n",
    "bloc_top = np.concatenate((bloc_top, list_blocs[nb_blocs_x*nb_blocs_y - 1][7:-7, :-8, 8:]), axis=2)\n",
    "list_blocs_x.append(bloc_top)\n",
    "\n",
    "list_blocs_x.reverse()\n",
    "\n",
    "reco_loop = np.concatenate([blocs_x for blocs_x in list_blocs_x], axis=1)\n",
    "\n",
    "final_reco = np.flip(reco_loop[:z, -y:, :x], axis=1)"
   ]
  },
  {
   "cell_type": "code",
   "execution_count": null,
   "metadata": {},
   "outputs": [],
   "source": [
    "def save_reco(final_reco, blur=None, thres=None):\n",
    "    \n",
    "    dest_folder = os.path.join('Reconstruction', model_name)\n",
    "    \n",
    "    try:\n",
    "        os.mkdir(dest_folder)\n",
    "    except FileExistsError:\n",
    "        pass\n",
    "    \n",
    "    T.imsave(os.path.join(dest_folder, 'orig_image'), img_as_ubyte(orig_image))\n",
    "    T.imsave(os.path.join(dest_folder, 'proba'), final_reco)\n",
    "    \n",
    "    if thres is not None:\n",
    "        mask = final_reco > thres*255\n",
    "        mask_proba = final_reco * mask\n",
    "        T.imsave(os.path.join(dest_folder, 'mask{0}_proba'.format(thres)), mask_proba)\n",
    "        \n",
    "        if blur is not None:\n",
    "            blur_mask_proba = gaussian_filter(mask_proba, sigma = [blur, blur, blur])\n",
    "            T.imsave(os.path.join(dest_folder, 'mask{0}_blur{1}_proba'.format(thres, blur)),\n",
    "                     blur_mask_proba)\n",
    "        \n",
    "    if blur is not None:\n",
    "        blur_proba = gaussian_filter(final_reco, sigma = [blur, blur, blur])\n",
    "        T.imsave(os.path.join(dest_folder, 'blur{0}_proba'.format(blur)),\n",
    "                 blur_proba)"
   ]
  },
  {
   "cell_type": "code",
   "execution_count": null,
   "metadata": {},
   "outputs": [],
   "source": [
    "save_reco(final_reco, blur=.2, thres=.85)"
   ]
  },
  {
   "cell_type": "code",
   "execution_count": null,
   "metadata": {},
   "outputs": [],
   "source": []
  }
 ],
 "metadata": {
  "kernelspec": {
   "display_name": "Python 3",
   "language": "python",
   "name": "python3"
  },
  "language_info": {
   "codemirror_mode": {
    "name": "ipython",
    "version": 3
   },
   "file_extension": ".py",
   "mimetype": "text/x-python",
   "name": "python",
   "nbconvert_exporter": "python",
   "pygments_lexer": "ipython3",
   "version": "3.7.7"
  }
 },
 "nbformat": 4,
 "nbformat_minor": 4
}
