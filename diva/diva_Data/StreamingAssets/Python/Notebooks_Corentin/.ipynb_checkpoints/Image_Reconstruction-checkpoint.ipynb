{
 "cells": [
  {
   "cell_type": "code",
   "execution_count": 1,
   "metadata": {},
   "outputs": [],
   "source": [
    "%reload_ext autoreload\n",
    "%autoreload 2\n",
    "\n",
    "import pickle\n",
    "import sys\n",
    "import os\n",
    "\n",
    "import numpy as np\n",
    "import pandas as pd\n",
    "from skimage.external import tifffile as T\n",
    "from skimage import img_as_float, img_as_uint, img_as_ubyte\n",
    "from scipy.ndimage.filters import gaussian_filter, median_filter\n",
    "\n",
    "sys.path.append('/home/corentin/Voxlea/diva-python/src/')\n",
    "from train_rf import combining_RF\n",
    "from train import combining_classifiers\n",
    "\n",
    "from utilities import create_df_features, create_file_list"
   ]
  },
  {
   "cell_type": "markdown",
   "metadata": {},
   "source": [
    "### Change Workspace Directory"
   ]
  },
  {
   "cell_type": "code",
   "execution_count": 2,
   "metadata": {},
   "outputs": [
    {
     "name": "stdout",
     "output_type": "stream",
     "text": [
      "/home/corentin/Voxlea/Exemple_1\n"
     ]
    }
   ],
   "source": [
    "%cd /home/corentin/Voxlea/Exemple_1"
   ]
  },
  {
   "cell_type": "markdown",
   "metadata": {},
   "source": [
    "## Inference full image"
   ]
  },
  {
   "cell_type": "code",
   "execution_count": 7,
   "metadata": {},
   "outputs": [
    {
     "name": "stdout",
     "output_type": "stream",
     "text": [
      "PACKET 0\n",
      "Main Classifier inference time: 3.7929863929748535\n",
      "PACKET 1\n",
      "Main Classifier inference time: 3.7098233699798584\n",
      "PACKET 2\n",
      "Main Classifier inference time: 3.7293004989624023\n",
      "PACKET 3\n",
      "Main Classifier inference time: 3.724140167236328\n",
      "PACKET 4\n",
      "Main Classifier inference time: 3.7198779582977295\n",
      "PACKET 5\n",
      "Main Classifier inference time: 3.6891636848449707\n",
      "PACKET 6\n",
      "Main Classifier inference time: 3.6723337173461914\n",
      "PACKET 7\n",
      "Main Classifier inference time: 3.6480255126953125\n",
      "PACKET 8\n",
      "Main Classifier inference time: 3.6375441551208496\n"
     ]
    }
   ],
   "source": [
    "# specify which classifier is used for the inference\n",
    "model_name = 'adasgd1'\n",
    "classifier_filename = 'Model/' + model_name + '.pckl'\n",
    "\n",
    "# get all json files in a folder - here the packets to recontruct back the initial image\n",
    "packet_list = create_file_list('inference', 'json')\n",
    "\n",
    "# list of packets with proba format uint8 to reconstruct further\n",
    "proba_packet_list = []\n",
    "\n",
    "# iterate over the packets\n",
    "for i, input_features_file in enumerate(packet_list):\n",
    "    print('PACKET', i)\n",
    "    # create df with all features\n",
    "    data_df = create_df_features(input_features_file)\n",
    "    \n",
    "    # perform inference\n",
    "    glob_class = combining_classifiers(data_df, classifier_filename, 5)\n",
    "    glob_class.__prepare_data_for_inference__()\n",
    "    proba = glob_class.__predict_proba__()\n",
    "\n",
    "    # convert proba to uint8\n",
    "    proba = (1 - proba) * 255\n",
    "    proba_uint8 = proba.astype(np.uint8)\n",
    "    proba_packet_list.append(proba_uint8)"
   ]
  },
  {
   "cell_type": "code",
   "execution_count": 28,
   "metadata": {},
   "outputs": [
    {
     "name": "stderr",
     "output_type": "stream",
     "text": [
      "/home/corentin/anaconda3/envs/voxlea/lib/python3.7/site-packages/skimage/util/dtype.py:503: UserWarning: Downcasting uint16 to uint8 without scaling because max value 255 fits in uint8\n",
      "  return convert(image, np.uint8, force_copy)\n"
     ]
    }
   ],
   "source": [
    "# open initial image to have info about reconstruction\n",
    "orig_image = T.imread('C2-S8a1_crop_ch2.tif')\n",
    "z, y, x = orig_image.shape\n",
    "nb_blocs = [dim // 78 + 1 for dim in orig_image.shape]\n",
    "nb_blocs_z, nb_blocs_y, nb_blocs_x = nb_blocs"
   ]
  },
  {
   "cell_type": "code",
   "execution_count": 9,
   "metadata": {},
   "outputs": [],
   "source": [
    "# reshape and put back to initial orientation each packets\n",
    "list_blocs = [np.flip(np.reshape(proba, [78, 78, 78], order='C'), axis=1) for proba in proba_packet_list]\n",
    "\n",
    "list_blocs_x = []\n",
    "\n",
    "bloc_base = list_blocs[0][7:-7, 7:-7, 7:-7]\n",
    "for ind_x in range(1, nb_blocs_x-1):\n",
    "    bloc_base = np.concatenate((bloc_base, list_blocs[ind_x][7:-7, 7:-7, 8:-7]), axis=2)\n",
    "bloc_base = np.concatenate((bloc_base, list_blocs[nb_blocs_x-1][7:-7, 7:-7, 8:]), axis=2)\n",
    "list_blocs_x.append(bloc_base)\n",
    "\n",
    "for ind_y in range(1, nb_blocs_y-1):\n",
    "    \n",
    "    bloc_int = list_blocs[ind_y*nb_blocs_x][7:-7, 7:-8, 7:-7]\n",
    "    for ind_x in range(1, nb_blocs_x-1):\n",
    "        bloc_int = np.concatenate((bloc_int, list_blocs[ind_y*nb_blocs_x + ind_x][7:-7, 7:-8, 8:-7]), axis=2)\n",
    "    bloc_int = np.concatenate((bloc_int, list_blocs[(ind_y + 1)*nb_blocs_x - 1][7:-7, 7:-8, 8:]), axis=2)\n",
    "    list_blocs_x.append(bloc_int)\n",
    "    \n",
    "bloc_top = list_blocs[(nb_blocs_y-1)*nb_blocs_x][7:-7, :-8, 7:-7]\n",
    "for ind_x in range(1, nb_blocs_x-1):\n",
    "    bloc_top = np.concatenate((bloc_top, list_blocs[(nb_blocs_y - 1)*nb_blocs_x + ind_x][7:-7, :-8, 8:-7]), axis=2)\n",
    "bloc_top = np.concatenate((bloc_top, list_blocs[nb_blocs_x*nb_blocs_y - 1][7:-7, :-8, 8:]), axis=2)\n",
    "list_blocs_x.append(bloc_top)\n",
    "\n",
    "list_blocs_x.reverse()\n",
    "\n",
    "reco_loop = np.concatenate([blocs_x for blocs_x in list_blocs_x], axis=1)\n",
    "\n",
    "final_reco = np.flip(reco_loop[:z, -y:, :x], axis=1)"
   ]
  },
  {
   "cell_type": "code",
   "execution_count": 38,
   "metadata": {},
   "outputs": [],
   "source": [
    "def save_reco(final_reco, blur=None, thres=None):\n",
    "    \n",
    "    dest_folder = os.path.join('Reconstruction', model_name)\n",
    "    \n",
    "    try:\n",
    "        os.mkdir(dest_folder)\n",
    "    except FileExistsError:\n",
    "        pass\n",
    "    \n",
    "    T.imsave(os.path.join(dest_folder, 'orig_image'), img_as_ubyte(orig_image))\n",
    "    T.imsave(os.path.join(dest_folder, 'proba'), final_reco)\n",
    "    \n",
    "    if thres is not None:\n",
    "        mask = final_reco > thres*255\n",
    "        mask_proba = final_reco * mask\n",
    "        T.imsave(os.path.join(dest_folder, 'mask{0}_proba'.format(thres)), mask_proba)\n",
    "        \n",
    "        if blur is not None:\n",
    "            blur_mask_proba = gaussian_filter(mask_proba, sigma = [blur, blur, blur])\n",
    "            T.imsave(os.path.join(dest_folder, 'mask{0}_blur{1}_proba'.format(thres, blur)),\n",
    "                     blur_mask_proba)\n",
    "        \n",
    "    if blur is not None:\n",
    "        blur_proba = gaussian_filter(final_reco, sigma = [blur, blur, blur])\n",
    "        T.imsave(os.path.join(dest_folder, 'blur{0}_proba'.format(blur)),\n",
    "                 blur_proba)"
   ]
  },
  {
   "cell_type": "code",
   "execution_count": 39,
   "metadata": {},
   "outputs": [],
   "source": [
    "save_reco(final_reco, blur=.2, thres=.85)"
   ]
  },
  {
   "cell_type": "code",
   "execution_count": null,
   "metadata": {},
   "outputs": [],
   "source": []
  }
 ],
 "metadata": {
  "kernelspec": {
   "display_name": "Python 3",
   "language": "python",
   "name": "python3"
  },
  "language_info": {
   "codemirror_mode": {
    "name": "ipython",
    "version": 3
   },
   "file_extension": ".py",
   "mimetype": "text/x-python",
   "name": "python",
   "nbconvert_exporter": "python",
   "pygments_lexer": "ipython3",
   "version": "3.7.7"
  }
 },
 "nbformat": 4,
 "nbformat_minor": 4
}
