{
 "cells": [
  {
   "cell_type": "code",
   "execution_count": 2,
   "metadata": {},
   "outputs": [],
   "source": [
    "%reload_ext autoreload\n",
    "%autoreload 2\n",
    "\n",
    "import pickle\n",
    "import sys\n",
    "\n",
    "import numpy as np\n",
    "import pandas as pd\n",
    "from skimage.external import tifffile as T\n",
    "from skimage import img_as_float\n",
    "\n",
    "sys.path.append('/home/corentin/Voxlea/diva-python/src/')\n",
    "from train import combining_classifiers\n",
    "from utilities import create_df_features"
   ]
  },
  {
   "cell_type": "markdown",
   "metadata": {},
   "source": [
    "### Change Workspace Directory"
   ]
  },
  {
   "cell_type": "code",
   "execution_count": 4,
   "metadata": {},
   "outputs": [
    {
     "name": "stdout",
     "output_type": "stream",
     "text": [
      "/home/corentin/Voxlea/Exemple_1\n"
     ]
    }
   ],
   "source": [
    "%cd /home/corentin/Voxlea/Exemple_1"
   ]
  },
  {
   "cell_type": "markdown",
   "metadata": {},
   "source": [
    "### TRAINING 1st round"
   ]
  },
  {
   "cell_type": "code",
   "execution_count": 5,
   "metadata": {},
   "outputs": [],
   "source": [
    "input_features = 'features_1er_tag.csv'\n",
    "input_classifier = 'NONE'\n",
    "output_classifier = 'Model/gpc1.pckl'\n",
    "\n",
    "list_classif = ['rf', 'ada_tree', 'ada_sgd', 'catboost', 'gpc', 'xgboost']\n",
    "main_classif = 'gpc'\n",
    "\n",
    "classification_strength = 2"
   ]
  },
  {
   "cell_type": "code",
   "execution_count": 6,
   "metadata": {},
   "outputs": [],
   "source": [
    "# initiate the class specifying path to features, name of the existing classifier and classifier strength\n",
    "glob_class = combining_classifiers(input_features, input_classifier, classification_strength)\n",
    "\n",
    "# load features extracted on DIVA from tagged voxels\n",
    "# and add log proba of the existing classifier to the features matrix\n",
    "glob_class.__prepare_data_for_training__()"
   ]
  },
  {
   "cell_type": "code",
   "execution_count": 7,
   "metadata": {},
   "outputs": [],
   "source": [
    "# fit the RFC using the features and store it in liste_learner\n",
    "glob_class.__apply_multiple_classifier_to_features__()\n",
    "\n",
    "glob_class.__apply_main_classifier__(main_classif)\n",
    "\n",
    "# save the obtained classifier\n",
    "pickle.dump(glob_class.liste_learner, open(output_classifier, 'wb'))"
   ]
  },
  {
   "cell_type": "code",
   "execution_count": 8,
   "metadata": {},
   "outputs": [
    {
     "data": {
      "text/plain": [
       "[{'main': GaussianProcessClassifier(copy_X_train=False, kernel=1**2 * RBF(length_scale=1),\n",
       "                            max_iter_predict=100, multi_class='one_vs_rest',\n",
       "                            n_jobs=None, n_restarts_optimizer=0,\n",
       "                            optimizer='fmin_l_bfgs_b', random_state=0,\n",
       "                            warm_start=False)}]"
      ]
     },
     "execution_count": 8,
     "metadata": {},
     "output_type": "execute_result"
    }
   ],
   "source": [
    "glob_class.liste_learner"
   ]
  },
  {
   "cell_type": "markdown",
   "metadata": {},
   "source": [
    "### INFERENCE 1st round"
   ]
  },
  {
   "cell_type": "code",
   "execution_count": null,
   "metadata": {},
   "outputs": [],
   "source": [
    "# open and load features for all the voxels of 1 packet in json format\n",
    "input_features_file = 'packet7.json'\n",
    "\n",
    "data_df = create_df_features(input_features_file) "
   ]
  },
  {
   "cell_type": "code",
   "execution_count": null,
   "metadata": {},
   "outputs": [],
   "source": [
    "classifier_filename = 'Model/classif_1st_round.pckl'\n",
    "\n",
    "glob_class = combining_classifiers(data_df.loc[:1000, :], classifier_filename, classification_strength)\n",
    "glob_class.__prepare_data_for_inference__()"
   ]
  },
  {
   "cell_type": "code",
   "execution_count": null,
   "metadata": {},
   "outputs": [],
   "source": [
    "proba = glob_class.__predict_proba__()"
   ]
  },
  {
   "cell_type": "code",
   "execution_count": null,
   "metadata": {},
   "outputs": [],
   "source": [
    "proba = (1 - proba) * 255\n",
    "proba_uint8 = proba.astype(np.uint8)"
   ]
  },
  {
   "cell_type": "code",
   "execution_count": null,
   "metadata": {},
   "outputs": [],
   "source": [
    "proba.shape, glob_class.features.shape"
   ]
  },
  {
   "cell_type": "markdown",
   "metadata": {},
   "source": [
    "### TRAINING 2nd round"
   ]
  },
  {
   "cell_type": "code",
   "execution_count": 61,
   "metadata": {},
   "outputs": [],
   "source": [
    "input_features = 'features_2eme_tag.csv'\n",
    "input_classifier = 'Model/gpc1.pckl'\n",
    "output_classifier = 'Model/gpc2_gpc1.pckl'\n",
    "\n",
    "list_classif = ['rf', 'ada_tree', 'ada_sgd', 'catboost', 'gpc', 'xgboost']\n",
    "main_classif = 'gpc'\n",
    "\n",
    "classification_strength = 2"
   ]
  },
  {
   "cell_type": "code",
   "execution_count": 62,
   "metadata": {},
   "outputs": [
    {
     "name": "stdout",
     "output_type": "stream",
     "text": [
      "Main Classifier inference time: 0.42751002311706543\n"
     ]
    }
   ],
   "source": [
    "# initiate the class specifying path to features, name of the existing classifier and classifier strength\n",
    "glob_class = combining_classifiers(input_features, input_classifier, classification_strength)\n",
    "\n",
    "# load features extracted on DIVA from tagged voxels\n",
    "# and add log proba of the existing classifier to the features matrix\n",
    "glob_class.__prepare_data_for_training__()\n",
    "\n",
    "# fit the RFC using the features and store it in liste_learner\n",
    "glob_class.__apply_multiple_classifier_to_features__()\n",
    "    \n",
    "glob_class.__apply_main_classifier__(main_classif)\n",
    "\n",
    "# save the obtained classifier\n",
    "pickle.dump(glob_class.liste_learner, open(output_classifier, 'wb'))"
   ]
  },
  {
   "cell_type": "code",
   "execution_count": 63,
   "metadata": {},
   "outputs": [
    {
     "data": {
      "text/plain": [
       "[{'main': GaussianProcessClassifier(copy_X_train=False, kernel=1**2 * RBF(length_scale=1),\n",
       "                            max_iter_predict=100, multi_class='one_vs_rest',\n",
       "                            n_jobs=None, n_restarts_optimizer=0,\n",
       "                            optimizer='fmin_l_bfgs_b', random_state=0,\n",
       "                            warm_start=False)},\n",
       " {'main': GaussianProcessClassifier(copy_X_train=False, kernel=1**2 * RBF(length_scale=1),\n",
       "                            max_iter_predict=100, multi_class='one_vs_rest',\n",
       "                            n_jobs=None, n_restarts_optimizer=0,\n",
       "                            optimizer='fmin_l_bfgs_b', random_state=0,\n",
       "                            warm_start=False)}]"
      ]
     },
     "execution_count": 63,
     "metadata": {},
     "output_type": "execute_result"
    }
   ],
   "source": [
    "glob_class.liste_learner"
   ]
  },
  {
   "cell_type": "markdown",
   "metadata": {},
   "source": [
    "### INFERENCE 2nd round"
   ]
  },
  {
   "cell_type": "code",
   "execution_count": null,
   "metadata": {},
   "outputs": [],
   "source": [
    "classifier_filename = 'Model/classif_2nd_round.pckl'\n",
    "\n",
    "glob_class = combining_classifiers(data_df.loc[:1000, :], classifier_filename, 5)\n",
    "glob_class.__prepare_data_for_inference__()\n",
    "proba = glob_class.__predict_proba__()"
   ]
  },
  {
   "cell_type": "code",
   "execution_count": null,
   "metadata": {},
   "outputs": [],
   "source": [
    "proba = (1 - proba) * 255\n",
    "proba_uint8 = proba.astype(np.uint8)"
   ]
  },
  {
   "cell_type": "code",
   "execution_count": null,
   "metadata": {},
   "outputs": [],
   "source": [
    "proba.shape, glob_class.features.shape"
   ]
  },
  {
   "cell_type": "code",
   "execution_count": null,
   "metadata": {},
   "outputs": [],
   "source": []
  },
  {
   "cell_type": "code",
   "execution_count": null,
   "metadata": {},
   "outputs": [],
   "source": []
  }
 ],
 "metadata": {
  "kernelspec": {
   "display_name": "Python 3",
   "language": "python",
   "name": "python3"
  },
  "language_info": {
   "codemirror_mode": {
    "name": "ipython",
    "version": 3
   },
   "file_extension": ".py",
   "mimetype": "text/x-python",
   "name": "python",
   "nbconvert_exporter": "python",
   "pygments_lexer": "ipython3",
   "version": "3.7.7"
  }
 },
 "nbformat": 4,
 "nbformat_minor": 4
}
